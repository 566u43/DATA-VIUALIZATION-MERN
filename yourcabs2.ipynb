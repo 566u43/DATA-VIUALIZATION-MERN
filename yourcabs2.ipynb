{
  "cells": [
    {
      "cell_type": "markdown",
      "metadata": {
        "id": "view-in-github",
        "colab_type": "text"
      },
      "source": [
        "<a href=\"https://colab.research.google.com/github/566u43/DATA-VIUALIZATION-MERN/blob/main/yourcabs2.ipynb\" target=\"_parent\"><img src=\"https://colab.research.google.com/assets/colab-badge.svg\" alt=\"Open In Colab\"/></a>"
      ]
    },
    {
      "cell_type": "code",
      "execution_count": 94,
      "metadata": {
        "colab": {
          "base_uri": "https://localhost:8080/"
        },
        "id": "v_U6X4wgieSs",
        "outputId": "67b1c48e-3094-4dda-d92a-fedc0e04ca20"
      },
      "outputs": [
        {
          "output_type": "stream",
          "name": "stdout",
          "text": [
            "Drive already mounted at /content/drive; to attempt to forcibly remount, call drive.mount(\"/content/drive\", force_remount=True).\n"
          ]
        }
      ],
      "source": [
        "from google.colab import drive\n",
        "drive.mount('/content/drive')"
      ]
    },
    {
      "cell_type": "code",
      "execution_count": 95,
      "metadata": {
        "id": "LIw0BreFjVkL"
      },
      "outputs": [],
      "source": [
        "import numpy as np\n",
        "import pandas as pd\n",
        "import matplotlib.pyplot as plt\n",
        "import seaborn as sns"
      ]
    },
    {
      "cell_type": "code",
      "execution_count": 96,
      "metadata": {
        "id": "mp1UqkYkjVUj"
      },
      "outputs": [],
      "source": [
        "from geopy import distance"
      ]
    },
    {
      "cell_type": "code",
      "execution_count": 97,
      "metadata": {
        "colab": {
          "base_uri": "https://localhost:8080/"
        },
        "id": "fQ-BKkeLilak",
        "outputId": "880fc521-4387-461f-bc6d-52752b2c1fd4"
      },
      "outputs": [
        {
          "output_type": "stream",
          "name": "stderr",
          "text": [
            "<ipython-input-97-1f41dfd84199>:1: DtypeWarning: Columns (9,10,13) have mixed types. Specify dtype option on import or set low_memory=False.\n",
            "  data = pd.read_csv('/content/drive/MyDrive/yourcabs1')\n"
          ]
        }
      ],
      "source": [
        "data = pd.read_csv('/content/drive/MyDrive/yourcabs1')"
      ]
    },
    {
      "cell_type": "code",
      "execution_count": 98,
      "metadata": {
        "colab": {
          "base_uri": "https://localhost:8080/",
          "height": 399
        },
        "id": "f25SFbmrilXV",
        "outputId": "8785805d-4b32-4e07-c70a-d6b85e082684"
      },
      "outputs": [
        {
          "output_type": "execute_result",
          "data": {
            "text/plain": [
              "         id  user_id  vehicle_model_id  package_id  travel_type_id  \\\n",
              "0  132516.0  22179.0              12.0         NaN             2.0   \n",
              "1  132529.0  22187.0              65.0         NaN             2.0   \n",
              "2  132532.0  23180.0              12.0         NaN             2.0   \n",
              "3  132547.0  30849.0              12.0         NaN             2.0   \n",
              "4  132548.0  22198.0              12.0         NaN             2.0   \n",
              "\n",
              "   from_area_id  to_area_id  from_city_id  to_city_id         from_date  \\\n",
              "0        1096.0       393.0           NaN         NaN  01-01-2013 09:30   \n",
              "1        1061.0       393.0           NaN         NaN  01-02-2013 01:00   \n",
              "2        1192.0       353.0           NaN         NaN  01-02-2013 04:30   \n",
              "3         515.0       849.0           NaN         NaN  01-01-2013 20:15   \n",
              "4          83.0       463.0           NaN         NaN  01-03-2013 00:30   \n",
              "\n",
              "  to_date  online_booking  mobile_site_booking   booking_created   from_lat  \\\n",
              "0     NaN             0.0                  0.0  01-01-2013 07:51  12.965190   \n",
              "1     NaN             0.0                  0.0  01-01-2013 12:11  12.924878   \n",
              "2     NaN             0.0                  0.0  01-01-2013 12:22  12.976770   \n",
              "3     NaN             0.0                  0.0  01-01-2013 16:51  12.978960   \n",
              "4     NaN             0.0                  0.0  01-01-2013 17:04  12.924150   \n",
              "\n",
              "   from_long    to_lat   to_long  Car_Cancellation  \n",
              "0  77.719320  13.19956  77.70688                 0  \n",
              "1  77.566255  13.19956  77.70688                 0  \n",
              "2  77.572700  13.03241  77.59914                 0  \n",
              "3  77.673450  12.95434  77.60072                 0  \n",
              "4  77.672290  12.96037  77.58132                 0  "
            ],
            "text/html": [
              "\n",
              "  <div id=\"df-82ea205d-c414-4d2e-901a-004ef2eeac8e\" class=\"colab-df-container\">\n",
              "    <div>\n",
              "<style scoped>\n",
              "    .dataframe tbody tr th:only-of-type {\n",
              "        vertical-align: middle;\n",
              "    }\n",
              "\n",
              "    .dataframe tbody tr th {\n",
              "        vertical-align: top;\n",
              "    }\n",
              "\n",
              "    .dataframe thead th {\n",
              "        text-align: right;\n",
              "    }\n",
              "</style>\n",
              "<table border=\"1\" class=\"dataframe\">\n",
              "  <thead>\n",
              "    <tr style=\"text-align: right;\">\n",
              "      <th></th>\n",
              "      <th>id</th>\n",
              "      <th>user_id</th>\n",
              "      <th>vehicle_model_id</th>\n",
              "      <th>package_id</th>\n",
              "      <th>travel_type_id</th>\n",
              "      <th>from_area_id</th>\n",
              "      <th>to_area_id</th>\n",
              "      <th>from_city_id</th>\n",
              "      <th>to_city_id</th>\n",
              "      <th>from_date</th>\n",
              "      <th>to_date</th>\n",
              "      <th>online_booking</th>\n",
              "      <th>mobile_site_booking</th>\n",
              "      <th>booking_created</th>\n",
              "      <th>from_lat</th>\n",
              "      <th>from_long</th>\n",
              "      <th>to_lat</th>\n",
              "      <th>to_long</th>\n",
              "      <th>Car_Cancellation</th>\n",
              "    </tr>\n",
              "  </thead>\n",
              "  <tbody>\n",
              "    <tr>\n",
              "      <th>0</th>\n",
              "      <td>132516.0</td>\n",
              "      <td>22179.0</td>\n",
              "      <td>12.0</td>\n",
              "      <td>NaN</td>\n",
              "      <td>2.0</td>\n",
              "      <td>1096.0</td>\n",
              "      <td>393.0</td>\n",
              "      <td>NaN</td>\n",
              "      <td>NaN</td>\n",
              "      <td>01-01-2013 09:30</td>\n",
              "      <td>NaN</td>\n",
              "      <td>0.0</td>\n",
              "      <td>0.0</td>\n",
              "      <td>01-01-2013 07:51</td>\n",
              "      <td>12.965190</td>\n",
              "      <td>77.719320</td>\n",
              "      <td>13.19956</td>\n",
              "      <td>77.70688</td>\n",
              "      <td>0</td>\n",
              "    </tr>\n",
              "    <tr>\n",
              "      <th>1</th>\n",
              "      <td>132529.0</td>\n",
              "      <td>22187.0</td>\n",
              "      <td>65.0</td>\n",
              "      <td>NaN</td>\n",
              "      <td>2.0</td>\n",
              "      <td>1061.0</td>\n",
              "      <td>393.0</td>\n",
              "      <td>NaN</td>\n",
              "      <td>NaN</td>\n",
              "      <td>01-02-2013 01:00</td>\n",
              "      <td>NaN</td>\n",
              "      <td>0.0</td>\n",
              "      <td>0.0</td>\n",
              "      <td>01-01-2013 12:11</td>\n",
              "      <td>12.924878</td>\n",
              "      <td>77.566255</td>\n",
              "      <td>13.19956</td>\n",
              "      <td>77.70688</td>\n",
              "      <td>0</td>\n",
              "    </tr>\n",
              "    <tr>\n",
              "      <th>2</th>\n",
              "      <td>132532.0</td>\n",
              "      <td>23180.0</td>\n",
              "      <td>12.0</td>\n",
              "      <td>NaN</td>\n",
              "      <td>2.0</td>\n",
              "      <td>1192.0</td>\n",
              "      <td>353.0</td>\n",
              "      <td>NaN</td>\n",
              "      <td>NaN</td>\n",
              "      <td>01-02-2013 04:30</td>\n",
              "      <td>NaN</td>\n",
              "      <td>0.0</td>\n",
              "      <td>0.0</td>\n",
              "      <td>01-01-2013 12:22</td>\n",
              "      <td>12.976770</td>\n",
              "      <td>77.572700</td>\n",
              "      <td>13.03241</td>\n",
              "      <td>77.59914</td>\n",
              "      <td>0</td>\n",
              "    </tr>\n",
              "    <tr>\n",
              "      <th>3</th>\n",
              "      <td>132547.0</td>\n",
              "      <td>30849.0</td>\n",
              "      <td>12.0</td>\n",
              "      <td>NaN</td>\n",
              "      <td>2.0</td>\n",
              "      <td>515.0</td>\n",
              "      <td>849.0</td>\n",
              "      <td>NaN</td>\n",
              "      <td>NaN</td>\n",
              "      <td>01-01-2013 20:15</td>\n",
              "      <td>NaN</td>\n",
              "      <td>0.0</td>\n",
              "      <td>0.0</td>\n",
              "      <td>01-01-2013 16:51</td>\n",
              "      <td>12.978960</td>\n",
              "      <td>77.673450</td>\n",
              "      <td>12.95434</td>\n",
              "      <td>77.60072</td>\n",
              "      <td>0</td>\n",
              "    </tr>\n",
              "    <tr>\n",
              "      <th>4</th>\n",
              "      <td>132548.0</td>\n",
              "      <td>22198.0</td>\n",
              "      <td>12.0</td>\n",
              "      <td>NaN</td>\n",
              "      <td>2.0</td>\n",
              "      <td>83.0</td>\n",
              "      <td>463.0</td>\n",
              "      <td>NaN</td>\n",
              "      <td>NaN</td>\n",
              "      <td>01-03-2013 00:30</td>\n",
              "      <td>NaN</td>\n",
              "      <td>0.0</td>\n",
              "      <td>0.0</td>\n",
              "      <td>01-01-2013 17:04</td>\n",
              "      <td>12.924150</td>\n",
              "      <td>77.672290</td>\n",
              "      <td>12.96037</td>\n",
              "      <td>77.58132</td>\n",
              "      <td>0</td>\n",
              "    </tr>\n",
              "  </tbody>\n",
              "</table>\n",
              "</div>\n",
              "    <div class=\"colab-df-buttons\">\n",
              "\n",
              "  <div class=\"colab-df-container\">\n",
              "    <button class=\"colab-df-convert\" onclick=\"convertToInteractive('df-82ea205d-c414-4d2e-901a-004ef2eeac8e')\"\n",
              "            title=\"Convert this dataframe to an interactive table.\"\n",
              "            style=\"display:none;\">\n",
              "\n",
              "  <svg xmlns=\"http://www.w3.org/2000/svg\" height=\"24px\" viewBox=\"0 -960 960 960\">\n",
              "    <path d=\"M120-120v-720h720v720H120Zm60-500h600v-160H180v160Zm220 220h160v-160H400v160Zm0 220h160v-160H400v160ZM180-400h160v-160H180v160Zm440 0h160v-160H620v160ZM180-180h160v-160H180v160Zm440 0h160v-160H620v160Z\"/>\n",
              "  </svg>\n",
              "    </button>\n",
              "\n",
              "  <style>\n",
              "    .colab-df-container {\n",
              "      display:flex;\n",
              "      gap: 12px;\n",
              "    }\n",
              "\n",
              "    .colab-df-convert {\n",
              "      background-color: #E8F0FE;\n",
              "      border: none;\n",
              "      border-radius: 50%;\n",
              "      cursor: pointer;\n",
              "      display: none;\n",
              "      fill: #1967D2;\n",
              "      height: 32px;\n",
              "      padding: 0 0 0 0;\n",
              "      width: 32px;\n",
              "    }\n",
              "\n",
              "    .colab-df-convert:hover {\n",
              "      background-color: #E2EBFA;\n",
              "      box-shadow: 0px 1px 2px rgba(60, 64, 67, 0.3), 0px 1px 3px 1px rgba(60, 64, 67, 0.15);\n",
              "      fill: #174EA6;\n",
              "    }\n",
              "\n",
              "    .colab-df-buttons div {\n",
              "      margin-bottom: 4px;\n",
              "    }\n",
              "\n",
              "    [theme=dark] .colab-df-convert {\n",
              "      background-color: #3B4455;\n",
              "      fill: #D2E3FC;\n",
              "    }\n",
              "\n",
              "    [theme=dark] .colab-df-convert:hover {\n",
              "      background-color: #434B5C;\n",
              "      box-shadow: 0px 1px 3px 1px rgba(0, 0, 0, 0.15);\n",
              "      filter: drop-shadow(0px 1px 2px rgba(0, 0, 0, 0.3));\n",
              "      fill: #FFFFFF;\n",
              "    }\n",
              "  </style>\n",
              "\n",
              "    <script>\n",
              "      const buttonEl =\n",
              "        document.querySelector('#df-82ea205d-c414-4d2e-901a-004ef2eeac8e button.colab-df-convert');\n",
              "      buttonEl.style.display =\n",
              "        google.colab.kernel.accessAllowed ? 'block' : 'none';\n",
              "\n",
              "      async function convertToInteractive(key) {\n",
              "        const element = document.querySelector('#df-82ea205d-c414-4d2e-901a-004ef2eeac8e');\n",
              "        const dataTable =\n",
              "          await google.colab.kernel.invokeFunction('convertToInteractive',\n",
              "                                                    [key], {});\n",
              "        if (!dataTable) return;\n",
              "\n",
              "        const docLinkHtml = 'Like what you see? Visit the ' +\n",
              "          '<a target=\"_blank\" href=https://colab.research.google.com/notebooks/data_table.ipynb>data table notebook</a>'\n",
              "          + ' to learn more about interactive tables.';\n",
              "        element.innerHTML = '';\n",
              "        dataTable['output_type'] = 'display_data';\n",
              "        await google.colab.output.renderOutput(dataTable, element);\n",
              "        const docLink = document.createElement('div');\n",
              "        docLink.innerHTML = docLinkHtml;\n",
              "        element.appendChild(docLink);\n",
              "      }\n",
              "    </script>\n",
              "  </div>\n",
              "\n",
              "\n",
              "<div id=\"df-131bf48e-9cdd-45da-a5f2-4f3865d0bb4e\">\n",
              "  <button class=\"colab-df-quickchart\" onclick=\"quickchart('df-131bf48e-9cdd-45da-a5f2-4f3865d0bb4e')\"\n",
              "            title=\"Suggest charts\"\n",
              "            style=\"display:none;\">\n",
              "\n",
              "<svg xmlns=\"http://www.w3.org/2000/svg\" height=\"24px\"viewBox=\"0 0 24 24\"\n",
              "     width=\"24px\">\n",
              "    <g>\n",
              "        <path d=\"M19 3H5c-1.1 0-2 .9-2 2v14c0 1.1.9 2 2 2h14c1.1 0 2-.9 2-2V5c0-1.1-.9-2-2-2zM9 17H7v-7h2v7zm4 0h-2V7h2v10zm4 0h-2v-4h2v4z\"/>\n",
              "    </g>\n",
              "</svg>\n",
              "  </button>\n",
              "\n",
              "<style>\n",
              "  .colab-df-quickchart {\n",
              "      --bg-color: #E8F0FE;\n",
              "      --fill-color: #1967D2;\n",
              "      --hover-bg-color: #E2EBFA;\n",
              "      --hover-fill-color: #174EA6;\n",
              "      --disabled-fill-color: #AAA;\n",
              "      --disabled-bg-color: #DDD;\n",
              "  }\n",
              "\n",
              "  [theme=dark] .colab-df-quickchart {\n",
              "      --bg-color: #3B4455;\n",
              "      --fill-color: #D2E3FC;\n",
              "      --hover-bg-color: #434B5C;\n",
              "      --hover-fill-color: #FFFFFF;\n",
              "      --disabled-bg-color: #3B4455;\n",
              "      --disabled-fill-color: #666;\n",
              "  }\n",
              "\n",
              "  .colab-df-quickchart {\n",
              "    background-color: var(--bg-color);\n",
              "    border: none;\n",
              "    border-radius: 50%;\n",
              "    cursor: pointer;\n",
              "    display: none;\n",
              "    fill: var(--fill-color);\n",
              "    height: 32px;\n",
              "    padding: 0;\n",
              "    width: 32px;\n",
              "  }\n",
              "\n",
              "  .colab-df-quickchart:hover {\n",
              "    background-color: var(--hover-bg-color);\n",
              "    box-shadow: 0 1px 2px rgba(60, 64, 67, 0.3), 0 1px 3px 1px rgba(60, 64, 67, 0.15);\n",
              "    fill: var(--button-hover-fill-color);\n",
              "  }\n",
              "\n",
              "  .colab-df-quickchart-complete:disabled,\n",
              "  .colab-df-quickchart-complete:disabled:hover {\n",
              "    background-color: var(--disabled-bg-color);\n",
              "    fill: var(--disabled-fill-color);\n",
              "    box-shadow: none;\n",
              "  }\n",
              "\n",
              "  .colab-df-spinner {\n",
              "    border: 2px solid var(--fill-color);\n",
              "    border-color: transparent;\n",
              "    border-bottom-color: var(--fill-color);\n",
              "    animation:\n",
              "      spin 1s steps(1) infinite;\n",
              "  }\n",
              "\n",
              "  @keyframes spin {\n",
              "    0% {\n",
              "      border-color: transparent;\n",
              "      border-bottom-color: var(--fill-color);\n",
              "      border-left-color: var(--fill-color);\n",
              "    }\n",
              "    20% {\n",
              "      border-color: transparent;\n",
              "      border-left-color: var(--fill-color);\n",
              "      border-top-color: var(--fill-color);\n",
              "    }\n",
              "    30% {\n",
              "      border-color: transparent;\n",
              "      border-left-color: var(--fill-color);\n",
              "      border-top-color: var(--fill-color);\n",
              "      border-right-color: var(--fill-color);\n",
              "    }\n",
              "    40% {\n",
              "      border-color: transparent;\n",
              "      border-right-color: var(--fill-color);\n",
              "      border-top-color: var(--fill-color);\n",
              "    }\n",
              "    60% {\n",
              "      border-color: transparent;\n",
              "      border-right-color: var(--fill-color);\n",
              "    }\n",
              "    80% {\n",
              "      border-color: transparent;\n",
              "      border-right-color: var(--fill-color);\n",
              "      border-bottom-color: var(--fill-color);\n",
              "    }\n",
              "    90% {\n",
              "      border-color: transparent;\n",
              "      border-bottom-color: var(--fill-color);\n",
              "    }\n",
              "  }\n",
              "</style>\n",
              "\n",
              "  <script>\n",
              "    async function quickchart(key) {\n",
              "      const quickchartButtonEl =\n",
              "        document.querySelector('#' + key + ' button');\n",
              "      quickchartButtonEl.disabled = true;  // To prevent multiple clicks.\n",
              "      quickchartButtonEl.classList.add('colab-df-spinner');\n",
              "      try {\n",
              "        const charts = await google.colab.kernel.invokeFunction(\n",
              "            'suggestCharts', [key], {});\n",
              "      } catch (error) {\n",
              "        console.error('Error during call to suggestCharts:', error);\n",
              "      }\n",
              "      quickchartButtonEl.classList.remove('colab-df-spinner');\n",
              "      quickchartButtonEl.classList.add('colab-df-quickchart-complete');\n",
              "    }\n",
              "    (() => {\n",
              "      let quickchartButtonEl =\n",
              "        document.querySelector('#df-131bf48e-9cdd-45da-a5f2-4f3865d0bb4e button');\n",
              "      quickchartButtonEl.style.display =\n",
              "        google.colab.kernel.accessAllowed ? 'block' : 'none';\n",
              "    })();\n",
              "  </script>\n",
              "</div>\n",
              "\n",
              "    </div>\n",
              "  </div>\n"
            ],
            "application/vnd.google.colaboratory.intrinsic+json": {
              "type": "dataframe",
              "variable_name": "data",
              "summary": "{\n  \"name\": \"data\",\n  \"rows\": 43431,\n  \"fields\": [\n    {\n      \"column\": \"id\",\n      \"properties\": {\n        \"dtype\": \"number\",\n        \"std\": 15346.196829732477,\n        \"min\": 132516.0,\n        \"max\": 185942.0,\n        \"num_unique_values\": 10000,\n        \"samples\": [\n          165778.0,\n          157566.0,\n          141995.0\n        ],\n        \"semantic_type\": \"\",\n        \"description\": \"\"\n      }\n    },\n    {\n      \"column\": \"user_id\",\n      \"properties\": {\n        \"dtype\": \"number\",\n        \"std\": 10950.656448920585,\n        \"min\": 11.0,\n        \"max\": 48720.0,\n        \"num_unique_values\": 7122,\n        \"samples\": [\n          25410.0,\n          22620.0,\n          30837.0\n        ],\n        \"semantic_type\": \"\",\n        \"description\": \"\"\n      }\n    },\n    {\n      \"column\": \"vehicle_model_id\",\n      \"properties\": {\n        \"dtype\": \"number\",\n        \"std\": 26.94219897797091,\n        \"min\": 10.0,\n        \"max\": 91.0,\n        \"num_unique_values\": 21,\n        \"samples\": [\n          12.0,\n          90.0,\n          89.0\n        ],\n        \"semantic_type\": \"\",\n        \"description\": \"\"\n      }\n    },\n    {\n      \"column\": \"package_id\",\n      \"properties\": {\n        \"dtype\": \"number\",\n        \"std\": 1.4252574265140807,\n        \"min\": 1.0,\n        \"max\": 7.0,\n        \"num_unique_values\": 6,\n        \"samples\": [\n          1.0,\n          2.0,\n          7.0\n        ],\n        \"semantic_type\": \"\",\n        \"description\": \"\"\n      }\n    },\n    {\n      \"column\": \"travel_type_id\",\n      \"properties\": {\n        \"dtype\": \"number\",\n        \"std\": 0.44142438259406885,\n        \"min\": 1.0,\n        \"max\": 3.0,\n        \"num_unique_values\": 3,\n        \"samples\": [\n          2.0,\n          1.0,\n          3.0\n        ],\n        \"semantic_type\": \"\",\n        \"description\": \"\"\n      }\n    },\n    {\n      \"column\": \"from_area_id\",\n      \"properties\": {\n        \"dtype\": \"number\",\n        \"std\": 419.20979118536746,\n        \"min\": 2.0,\n        \"max\": 1401.0,\n        \"num_unique_values\": 525,\n        \"samples\": [\n          1046.0,\n          1098.0,\n          1330.0\n        ],\n        \"semantic_type\": \"\",\n        \"description\": \"\"\n      }\n    },\n    {\n      \"column\": \"to_area_id\",\n      \"properties\": {\n        \"dtype\": \"number\",\n        \"std\": 401.60014607553614,\n        \"min\": 2.0,\n        \"max\": 1399.0,\n        \"num_unique_values\": 473,\n        \"samples\": [\n          61.0,\n          1234.0,\n          1063.0\n        ],\n        \"semantic_type\": \"\",\n        \"description\": \"\"\n      }\n    },\n    {\n      \"column\": \"from_city_id\",\n      \"properties\": {\n        \"dtype\": \"number\",\n        \"std\": 0.9991829830816408,\n        \"min\": 1.0,\n        \"max\": 15.0,\n        \"num_unique_values\": 2,\n        \"samples\": [\n          1.0,\n          15.0\n        ],\n        \"semantic_type\": \"\",\n        \"description\": \"\"\n      }\n    },\n    {\n      \"column\": \"to_city_id\",\n      \"properties\": {\n        \"dtype\": \"number\",\n        \"std\": 48.71593507541928,\n        \"min\": 1.0,\n        \"max\": 200.0,\n        \"num_unique_values\": 66,\n        \"samples\": [\n          69.0,\n          1.0\n        ],\n        \"semantic_type\": \"\",\n        \"description\": \"\"\n      }\n    },\n    {\n      \"column\": \"from_date\",\n      \"properties\": {\n        \"dtype\": \"category\",\n        \"num_unique_values\": 7979,\n        \"samples\": [\n          \"5/13/2013 20:00\",\n          \"06-03-2013 09:30\"\n        ],\n        \"semantic_type\": \"\",\n        \"description\": \"\"\n      }\n    },\n    {\n      \"column\": \"to_date\",\n      \"properties\": {\n        \"dtype\": \"category\",\n        \"num_unique_values\": 314,\n        \"samples\": [\n          \"06-07-2013\",\n          \"2/14/2013\"\n        ],\n        \"semantic_type\": \"\",\n        \"description\": \"\"\n      }\n    },\n    {\n      \"column\": \"online_booking\",\n      \"properties\": {\n        \"dtype\": \"number\",\n        \"std\": 0.47632791103176264,\n        \"min\": 0.0,\n        \"max\": 1.0,\n        \"num_unique_values\": 2,\n        \"samples\": [\n          1.0,\n          0.0\n        ],\n        \"semantic_type\": \"\",\n        \"description\": \"\"\n      }\n    },\n    {\n      \"column\": \"mobile_site_booking\",\n      \"properties\": {\n        \"dtype\": \"number\",\n        \"std\": 0.19945357397855096,\n        \"min\": 0.0,\n        \"max\": 1.0,\n        \"num_unique_values\": 2,\n        \"samples\": [\n          1.0,\n          0.0\n        ],\n        \"semantic_type\": \"\",\n        \"description\": \"\"\n      }\n    },\n    {\n      \"column\": \"booking_created\",\n      \"properties\": {\n        \"dtype\": \"category\",\n        \"num_unique_values\": 9624,\n        \"samples\": [\n          \"2/19/2013 10:40\",\n          \"04-11-2013 10:30\"\n        ],\n        \"semantic_type\": \"\",\n        \"description\": \"\"\n      }\n    },\n    {\n      \"column\": \"from_lat\",\n      \"properties\": {\n        \"dtype\": \"number\",\n        \"std\": 0.08493986430524252,\n        \"min\": 12.78665,\n        \"max\": 13.24373,\n        \"num_unique_values\": 422,\n        \"samples\": [\n          13.0056,\n          12.96467\n        ],\n        \"semantic_type\": \"\",\n        \"description\": \"\"\n      }\n    },\n    {\n      \"column\": \"from_long\",\n      \"properties\": {\n        \"dtype\": \"number\",\n        \"std\": 0.059443679984865175,\n        \"min\": 77.38693,\n        \"max\": 77.78642,\n        \"num_unique_values\": 419,\n        \"samples\": [\n          77.483053,\n          77.60993\n        ],\n        \"semantic_type\": \"\",\n        \"description\": \"\"\n      }\n    },\n    {\n      \"column\": \"to_lat\",\n      \"properties\": {\n        \"dtype\": \"number\",\n        \"std\": 0.11327413106485039,\n        \"min\": 12.77663,\n        \"max\": 13.366072,\n        \"num_unique_values\": 389,\n        \"samples\": [\n          13.13785,\n          12.97943\n        ],\n        \"semantic_type\": \"\",\n        \"description\": \"\"\n      }\n    },\n    {\n      \"column\": \"to_long\",\n      \"properties\": {\n        \"dtype\": \"number\",\n        \"std\": 0.06423884763462129,\n        \"min\": 77.38693,\n        \"max\": 77.78642,\n        \"num_unique_values\": 387,\n        \"samples\": [\n          77.55381,\n          77.65966\n        ],\n        \"semantic_type\": \"\",\n        \"description\": \"\"\n      }\n    },\n    {\n      \"column\": \"Car_Cancellation\",\n      \"properties\": {\n        \"dtype\": \"number\",\n        \"std\": 0,\n        \"min\": 0,\n        \"max\": 1,\n        \"num_unique_values\": 2,\n        \"samples\": [\n          1,\n          0\n        ],\n        \"semantic_type\": \"\",\n        \"description\": \"\"\n      }\n    }\n  ]\n}"
            }
          },
          "metadata": {},
          "execution_count": 98
        }
      ],
      "source": [
        "data.head()"
      ]
    },
    {
      "cell_type": "code",
      "execution_count": 99,
      "metadata": {
        "colab": {
          "base_uri": "https://localhost:8080/"
        },
        "id": "Nk9L__6MilUm",
        "outputId": "7531ba34-d41d-4dfa-b68d-646b609add65"
      },
      "outputs": [
        {
          "output_type": "execute_result",
          "data": {
            "text/plain": [
              "(43431, 19)"
            ]
          },
          "metadata": {},
          "execution_count": 99
        }
      ],
      "source": [
        "data.shape"
      ]
    },
    {
      "cell_type": "code",
      "execution_count": 100,
      "metadata": {
        "colab": {
          "base_uri": "https://localhost:8080/"
        },
        "id": "U2Fal_gAilSL",
        "outputId": "9b1713e6-b066-4730-b743-62e9e14d8de5"
      },
      "outputs": [
        {
          "output_type": "stream",
          "name": "stdout",
          "text": [
            "id                     33431\n",
            "user_id                33431\n",
            "vehicle_model_id       33431\n",
            "package_id             41646\n",
            "travel_type_id         33431\n",
            "from_area_id           33451\n",
            "to_area_id             35581\n",
            "from_city_id           39719\n",
            "to_city_id             43066\n",
            "from_date              33431\n",
            "to_date                37558\n",
            "online_booking         33431\n",
            "mobile_site_booking    33431\n",
            "booking_created        33431\n",
            "from_lat               33451\n",
            "from_long              33451\n",
            "to_lat                 35581\n",
            "to_long                35581\n",
            "Car_Cancellation           0\n",
            "dtype: int64\n"
          ]
        }
      ],
      "source": [
        "# Check for missing values\n",
        "print(data.isnull().sum())\n"
      ]
    },
    {
      "cell_type": "code",
      "execution_count": 101,
      "metadata": {
        "colab": {
          "base_uri": "https://localhost:8080/"
        },
        "id": "5tGmSmcyilPk",
        "outputId": "a6c3ead5-5d9d-4a1d-d8a0-0ba8a65e78c9"
      },
      "outputs": [
        {
          "output_type": "stream",
          "name": "stdout",
          "text": [
            "<class 'pandas.core.frame.DataFrame'>\n",
            "RangeIndex: 43431 entries, 0 to 43430\n",
            "Data columns (total 19 columns):\n",
            " #   Column               Non-Null Count  Dtype  \n",
            "---  ------               --------------  -----  \n",
            " 0   id                   10000 non-null  float64\n",
            " 1   user_id              10000 non-null  float64\n",
            " 2   vehicle_model_id     10000 non-null  float64\n",
            " 3   package_id           1785 non-null   float64\n",
            " 4   travel_type_id       10000 non-null  float64\n",
            " 5   from_area_id         9980 non-null   float64\n",
            " 6   to_area_id           7850 non-null   float64\n",
            " 7   from_city_id         3712 non-null   float64\n",
            " 8   to_city_id           365 non-null    float64\n",
            " 9   from_date            10000 non-null  object \n",
            " 10  to_date              5873 non-null   object \n",
            " 11  online_booking       10000 non-null  float64\n",
            " 12  mobile_site_booking  10000 non-null  float64\n",
            " 13  booking_created      10000 non-null  object \n",
            " 14  from_lat             9980 non-null   float64\n",
            " 15  from_long            9980 non-null   float64\n",
            " 16  to_lat               7850 non-null   float64\n",
            " 17  to_long              7850 non-null   float64\n",
            " 18  Car_Cancellation     43431 non-null  int64  \n",
            "dtypes: float64(15), int64(1), object(3)\n",
            "memory usage: 6.3+ MB\n",
            "None\n"
          ]
        }
      ],
      "source": [
        "# Print information about the DataFrame\n",
        "print(data.info())\n"
      ]
    },
    {
      "cell_type": "code",
      "execution_count": 102,
      "metadata": {
        "id": "xC9hqZA-ilM2"
      },
      "outputs": [],
      "source": [
        "# Drop columns that are not useful for modeling\n",
        "data.drop(['id', 'from_lat', 'from_long', 'to_lat', 'to_long'], axis=1, inplace=True)\n",
        "\n",
        "# Remove duplicates if any\n",
        "data.drop_duplicates(inplace=True)\n"
      ]
    },
    {
      "cell_type": "code",
      "execution_count": 103,
      "metadata": {
        "id": "Qj2b8DjFobjt"
      },
      "outputs": [],
      "source": [
        "from datetime import datetime"
      ]
    },
    {
      "cell_type": "code",
      "execution_count": 104,
      "metadata": {
        "id": "dSfHes_iilHW"
      },
      "outputs": [],
      "source": [
        "data['from_date'] = pd.to_datetime(data['from_date'], format='%m/%d/%Y %H:%M', errors='coerce')\n",
        "data['booking_created'] = pd.to_datetime(data['booking_created'], format='%m/%d/%Y %H:%M', errors='coerce')\n"
      ]
    },
    {
      "cell_type": "code",
      "execution_count": 105,
      "metadata": {
        "colab": {
          "base_uri": "https://localhost:8080/"
        },
        "id": "yJSbzp6oilEj",
        "outputId": "4f1f78bc-251c-4cd3-a00b-4f2670e05467"
      },
      "outputs": [
        {
          "output_type": "stream",
          "name": "stdout",
          "text": [
            "4077\n",
            "4086\n"
          ]
        }
      ],
      "source": [
        "# Check for NaT values and drop them\n",
        "print(data['from_date'].isnull().sum())\n",
        "print(data['booking_created'].isnull().sum())\n",
        "data.dropna(subset=['from_date', 'booking_created'], inplace=True)"
      ]
    },
    {
      "cell_type": "code",
      "execution_count": 106,
      "metadata": {
        "id": "OCywF_lpilCE"
      },
      "outputs": [],
      "source": [
        "# Calculate Booking Lead Time in hours\n",
        "data['booking_lead_time'] = (data['from_date'] - data['booking_created']).dt.total_seconds() / 3600"
      ]
    },
    {
      "cell_type": "code",
      "execution_count": 107,
      "metadata": {
        "colab": {
          "base_uri": "https://localhost:8080/"
        },
        "id": "byXZky04ik_j",
        "outputId": "c11af9b2-fce9-44cf-fd76-05f856907756"
      },
      "outputs": [
        {
          "output_type": "stream",
          "name": "stderr",
          "text": [
            "<ipython-input-107-0ccc3f1254c7>:2: FutureWarning: DataFrame.fillna with 'method' is deprecated and will raise in a future version. Use obj.ffill() or obj.bfill() instead.\n",
            "  data.fillna(method='ffill', inplace=True)\n"
          ]
        }
      ],
      "source": [
        "# Fill missing values\n",
        "data.fillna(method='ffill', inplace=True)"
      ]
    },
    {
      "cell_type": "code",
      "execution_count": 108,
      "metadata": {
        "id": "kMHGhW1Zik86"
      },
      "outputs": [],
      "source": [
        "# Encode categorical variables\n",
        "data = pd.get_dummies(data, columns=['vehicle_model_id', 'package_id', 'travel_type_id', 'online_booking', 'mobile_site_booking'], drop_first=True)\n"
      ]
    },
    {
      "cell_type": "code",
      "execution_count": 109,
      "metadata": {
        "id": "nohIpShJik6D"
      },
      "outputs": [],
      "source": [
        "# Extract date-time features\n",
        "data['hour_of_day'] = data['from_date'].dt.hour\n",
        "data['day_of_week'] = data['from_date'].dt.dayofweek"
      ]
    },
    {
      "cell_type": "code",
      "execution_count": 110,
      "metadata": {
        "colab": {
          "base_uri": "https://localhost:8080/",
          "height": 472
        },
        "id": "tzP9Q2gIik3n",
        "outputId": "456490e0-fef3-466c-d2c8-2dbb31980063"
      },
      "outputs": [
        {
          "output_type": "display_data",
          "data": {
            "text/plain": [
              "<Figure size 640x480 with 1 Axes>"
            ],
            "image/png": "[encoded data removed]"
          },
          "metadata": {}
        }
      ],
      "source": [
        "# Data visualization\n",
        "sns.countplot(x='Car_Cancellation', data=data)\n",
        "plt.title('Distribution of Car Cancellations')\n",
        "plt.show()"
      ]
    },
    {
      "cell_type": "code",
      "execution_count": 111,
      "metadata": {
        "colab": {
          "base_uri": "https://localhost:8080/",
          "height": 969
        },
        "id": "H4kZVonrik1C",
        "outputId": "f99e82f2-c5a6-44bf-cd6d-09129f370547"
      },
      "outputs": [
        {
          "output_type": "display_data",
          "data": {
            "text/plain": [
              "<Figure size 1200x1000 with 2 Axes>"
            ],
            "image/png": "[encoded data removed]"
          },
          "metadata": {}
        }
      ],
      "source": [
        "# Ensure all columns used are numeric\n",
        "numeric_data = data.select_dtypes(include=[np.number])\n",
        "\n",
        "# Generate the correlation heatmap\n",
        "plt.figure(figsize=(12, 10))\n",
        "sns.heatmap(numeric_data.corr(), annot=True, cmap='coolwarm', fmt='.2f')\n",
        "plt.title('Correlation Heatmap')\n",
        "plt.show()\n"
      ]
    },
    {
      "cell_type": "code",
      "execution_count": 112,
      "metadata": {
        "id": "k08KjiK3ikyd"
      },
      "outputs": [],
      "source": [
        "# Divide Data into Numerical and Categorical\n",
        "numerical_cols = data.select_dtypes(include=['int64', 'float64']).columns\n",
        "categorical_cols = data.select_dtypes(include=['uint8']).columns"
      ]
    },
    {
      "cell_type": "code",
      "execution_count": 113,
      "metadata": {
        "colab": {
          "base_uri": "https://localhost:8080/"
        },
        "id": "lrvv1m5Wikv3",
        "outputId": "46d68720-f141-4db6-c208-965ab4821d44"
      },
      "outputs": [
        {
          "output_type": "stream",
          "name": "stderr",
          "text": [
            "/usr/local/lib/python3.10/dist-packages/sklearn/preprocessing/_encoders.py:975: FutureWarning: `sparse` was renamed to `sparse_output` in version 1.2 and will be removed in 1.4. `sparse_output` is ignored unless you leave `sparse` to its default value.\n",
            "  warnings.warn(\n"
          ]
        }
      ],
      "source": [
        "# Encode categorical variables\n",
        "from sklearn.preprocessing import OneHotEncoder\n",
        "\n",
        "encoder = OneHotEncoder(drop='first', sparse=False)\n",
        "encoded_cats = encoder.fit_transform(data[categorical_cols])\n",
        "encoded_df = pd.DataFrame(encoded_cats, columns=encoder.get_feature_names_out(categorical_cols))\n",
        "data = pd.concat([data[numerical_cols], encoded_df], axis=1)"
      ]
    },
    {
      "cell_type": "code",
      "execution_count": 114,
      "metadata": {
        "id": "d9k6_8yCiktV"
      },
      "outputs": [],
      "source": [
        "from sklearn.model_selection import train_test_split\n",
        "# Train-Test Split\n",
        "X = data.drop('Car_Cancellation', axis=1)\n",
        "y = data['Car_Cancellation']\n",
        "X_train, X_test, y_train, y_test = train_test_split(X, y, test_size=0.2, random_state=42)"
      ]
    },
    {
      "cell_type": "code",
      "execution_count": 115,
      "metadata": {
        "colab": {
          "base_uri": "https://localhost:8080/"
        },
        "id": "tNecLqRZikoR",
        "outputId": "cb66f43c-6247-4a3f-b0dc-57441d61864c"
      },
      "outputs": [
        {
          "output_type": "stream",
          "name": "stdout",
          "text": [
            "(6454, 6)\n",
            "(6454,)\n"
          ]
        }
      ],
      "source": [
        "# Check shapes\n",
        "print(X_train.shape)\n",
        "print(y_train.shape)"
      ]
    },
    {
      "cell_type": "code",
      "execution_count": 116,
      "metadata": {
        "colab": {
          "base_uri": "https://localhost:8080/"
        },
        "id": "AH0IoXAysZkz",
        "outputId": "4523913b-dc64-4a7f-fa89-0f85bfce0382"
      },
      "outputs": [
        {
          "output_type": "stream",
          "name": "stdout",
          "text": [
            "12040\n",
            "0\n",
            "2003\n",
            "0\n"
          ]
        }
      ],
      "source": [
        "# Check for NaN or Inf values\n",
        "print(X_train.isnull().sum().sum())\n",
        "print(np.isinf(X_train).sum().sum())\n",
        "print(y_train.isnull().sum())\n",
        "print(np.isinf(y_train).sum())"
      ]
    },
    {
      "cell_type": "code",
      "execution_count": 117,
      "metadata": {
        "id": "I7lu8_oAsd9v"
      },
      "outputs": [],
      "source": [
        "# Reset index if necessary\n",
        "X_train = X_train.reset_index(drop=True)\n",
        "y_train = y_train.reset_index(drop=True)"
      ]
    },
    {
      "cell_type": "code",
      "execution_count": 118,
      "metadata": {
        "colab": {
          "base_uri": "https://localhost:8080/"
        },
        "id": "hfjg6y0J_9jt",
        "outputId": "0868c7c7-2596-4a4b-ee31-b277d4330741"
      },
      "outputs": [
        {
          "output_type": "stream",
          "name": "stdout",
          "text": [
            "X_train shape: (6454, 6)\n",
            "y_train shape: (6454,)\n",
            "X_test shape: (1614, 6)\n",
            "y_test shape: (1614,)\n"
          ]
        }
      ],
      "source": [
        "# Debugging information\n",
        "print(\"X_train shape:\", X_train.shape)\n",
        "print(\"y_train shape:\", y_train.shape)\n",
        "print(\"X_test shape:\", X_test.shape)\n",
        "print(\"y_test shape:\", y_test.shape)"
      ]
    },
    {
      "cell_type": "code",
      "execution_count": 119,
      "metadata": {
        "id": "6xnVo4VYABOB"
      },
      "outputs": [],
      "source": [
        "# Fill NaNs and replace Infs\n",
        "X_train = X_train.fillna(0)\n",
        "X_train.replace([np.inf, -np.inf], 0, inplace=True)\n",
        "X_test = X_test.fillna(0)\n",
        "X_test.replace([np.inf, -np.inf], 0, inplace=True)"
      ]
    },
    {
      "cell_type": "code",
      "execution_count": 120,
      "metadata": {
        "id": "g9Pjrd3HAMIj"
      },
      "outputs": [],
      "source": [
        "# Ensure y_train and y_test are integers\n",
        "y_train = y_train.fillna(0).astype(int)\n",
        "y_test = y_test.fillna(0).astype(int)\n"
      ]
    },
    {
      "cell_type": "code",
      "execution_count": 121,
      "metadata": {
        "id": "squSQCF9AM_Z"
      },
      "outputs": [],
      "source": [
        "# Align columns of X_test\n",
        "X_test = X_test.reindex(columns=X_train.columns, fill_value=0)"
      ]
    },
    {
      "cell_type": "code",
      "execution_count": 123,
      "metadata": {
        "colab": {
          "base_uri": "https://localhost:8080/",
          "height": 74
        },
        "id": "dcYViAmUARjn",
        "outputId": "4f91f2ac-8753-4b48-be90-00eb7ab7f2a1"
      },
      "outputs": [
        {
          "output_type": "execute_result",
          "data": {
            "text/plain": [
              "RandomForestClassifier(random_state=42)"
            ],
            "text/html": [
              "<style>#sk-container-id-1 {color: black;}#sk-container-id-1 pre{padding: 0;}#sk-container-id-1 div.sk-toggleable {background-color: white;}#sk-container-id-1 label.sk-toggleable__label {cursor: pointer;display: block;width: 100%;margin-bottom: 0;padding: 0.3em;box-sizing: border-box;text-align: center;}#sk-container-id-1 label.sk-toggleable__label-arrow:before {content: \"▸\";float: left;margin-right: 0.25em;color: #696969;}#sk-container-id-1 label.sk-toggleable__label-arrow:hover:before {color: black;}#sk-container-id-1 div.sk-estimator:hover label.sk-toggleable__label-arrow:before {color: black;}#sk-container-id-1 div.sk-toggleable__content {max-height: 0;max-width: 0;overflow: hidden;text-align: left;background-color: #f0f8ff;}#sk-container-id-1 div.sk-toggleable__content pre {margin: 0.2em;color: black;border-radius: 0.25em;background-color: #f0f8ff;}#sk-container-id-1 input.sk-toggleable__control:checked~div.sk-toggleable__content {max-height: 200px;max-width: 100%;overflow: auto;}#sk-container-id-1 input.sk-toggleable__control:checked~label.sk-toggleable__label-arrow:before {content: \"▾\";}#sk-container-id-1 div.sk-estimator input.sk-toggleable__control:checked~label.sk-toggleable__label {background-color: #d4ebff;}#sk-container-id-1 div.sk-label input.sk-toggleable__control:checked~label.sk-toggleable__label {background-color: #d4ebff;}#sk-container-id-1 input.sk-hidden--visually {border: 0;clip: rect(1px 1px 1px 1px);clip: rect(1px, 1px, 1px, 1px);height: 1px;margin: -1px;overflow: hidden;padding: 0;position: absolute;width: 1px;}#sk-container-id-1 div.sk-estimator {font-family: monospace;background-color: #f0f8ff;border: 1px dotted black;border-radius: 0.25em;box-sizing: border-box;margin-bottom: 0.5em;}#sk-container-id-1 div.sk-estimator:hover {background-color: #d4ebff;}#sk-container-id-1 div.sk-parallel-item::after {content: \"\";width: 100%;border-bottom: 1px solid gray;flex-grow: 1;}#sk-container-id-1 div.sk-label:hover label.sk-toggleable__label {background-color: #d4ebff;}#sk-container-id-1 div.sk-serial::before {content: \"\";position: absolute;border-left: 1px solid gray;box-sizing: border-box;top: 0;bottom: 0;left: 50%;z-index: 0;}#sk-container-id-1 div.sk-serial {display: flex;flex-direction: column;align-items: center;background-color: white;padding-right: 0.2em;padding-left: 0.2em;position: relative;}#sk-container-id-1 div.sk-item {position: relative;z-index: 1;}#sk-container-id-1 div.sk-parallel {display: flex;align-items: stretch;justify-content: center;background-color: white;position: relative;}#sk-container-id-1 div.sk-item::before, #sk-container-id-1 div.sk-parallel-item::before {content: \"\";position: absolute;border-left: 1px solid gray;box-sizing: border-box;top: 0;bottom: 0;left: 50%;z-index: -1;}#sk-container-id-1 div.sk-parallel-item {display: flex;flex-direction: column;z-index: 1;position: relative;background-color: white;}#sk-container-id-1 div.sk-parallel-item:first-child::after {align-self: flex-end;width: 50%;}#sk-container-id-1 div.sk-parallel-item:last-child::after {align-self: flex-start;width: 50%;}#sk-container-id-1 div.sk-parallel-item:only-child::after {width: 0;}#sk-container-id-1 div.sk-dashed-wrapped {border: 1px dashed gray;margin: 0 0.4em 0.5em 0.4em;box-sizing: border-box;padding-bottom: 0.4em;background-color: white;}#sk-container-id-1 div.sk-label label {font-family: monospace;font-weight: bold;display: inline-block;line-height: 1.2em;}#sk-container-id-1 div.sk-label-container {text-align: center;}#sk-container-id-1 div.sk-container {/* jupyter's `normalize.less` sets `[hidden] { display: none; }` but bootstrap.min.css set `[hidden] { display: none !important; }` so we also need the `!important` here to be able to override the default hidden behavior on the sphinx rendered scikit-learn.org. See: https://github.com/scikit-learn/scikit-learn/issues/21755 */display: inline-block !important;position: relative;}#sk-container-id-1 div.sk-text-repr-fallback {display: none;}</style><div id=\"sk-container-id-1\" class=\"sk-top-container\"><div class=\"sk-text-repr-fallback\"><pre>RandomForestClassifier(random_state=42)</pre><b>In a Jupyter environment, please rerun this cell to show the HTML representation or trust the notebook. <br />On GitHub, the HTML representation is unable to render, please try loading this page with nbviewer.org.</b></div><div class=\"sk-container\" hidden><div class=\"sk-item\"><div class=\"sk-estimator sk-toggleable\"><input class=\"sk-toggleable__control sk-hidden--visually\" id=\"sk-estimator-id-1\" type=\"checkbox\" checked><label for=\"sk-estimator-id-1\" class=\"sk-toggleable__label sk-toggleable__label-arrow\">RandomForestClassifier</label><div class=\"sk-toggleable__content\"><pre>RandomForestClassifier(random_state=42)</pre></div></div></div></div></div>"
            ]
          },
          "metadata": {},
          "execution_count": 123
        }
      ],
      "source": [
        "# Import necessary library\n",
        "from sklearn.ensemble import RandomForestClassifier\n",
        "\n",
        "# Model Building\n",
        "model = RandomForestClassifier(n_estimators=100, random_state=42)\n",
        "model.fit(X_train, y_train)\n"
      ]
    },
    {
      "cell_type": "code",
      "execution_count": 124,
      "metadata": {
        "id": "NMeQaR2UAWhe"
      },
      "outputs": [],
      "source": [
        "# Predict and evaluate\n",
        "y_pred = model.predict(X_test)"
      ]
    },
    {
      "cell_type": "code",
      "execution_count": 125,
      "metadata": {
        "colab": {
          "base_uri": "https://localhost:8080/"
        },
        "id": "zSFenlTNAfSn",
        "outputId": "1ffa1491-2c73-40e4-82b6-c4cc6224a64d"
      },
      "outputs": [
        {
          "output_type": "stream",
          "name": "stdout",
          "text": [
            "Data type of y_test: int64\n",
            "Data type of y_pred: int64\n"
          ]
        }
      ],
      "source": [
        "# Ensure consistent data types\n",
        "print(\"Data type of y_test:\", y_test.dtype)\n",
        "print(\"Data type of y_pred:\", y_pred.dtype)"
      ]
    },
    {
      "cell_type": "code",
      "execution_count": 126,
      "metadata": {
        "colab": {
          "base_uri": "https://localhost:8080/"
        },
        "id": "RDnxvyniAlCq",
        "outputId": "2ea7486c-efd7-47b1-9170-6816f0347223"
      },
      "outputs": [
        {
          "output_type": "stream",
          "name": "stdout",
          "text": [
            "Shape of y_test: (1614,)\n",
            "Shape of y_pred: (1614,)\n"
          ]
        }
      ],
      "source": [
        "# Ensure consistent shapes\n",
        "print(\"Shape of y_test:\", y_test.shape)\n",
        "print(\"Shape of y_pred:\", y_pred.shape)"
      ]
    },
    {
      "cell_type": "code",
      "execution_count": 129,
      "metadata": {
        "colab": {
          "base_uri": "https://localhost:8080/"
        },
        "id": "h1NHwUJKAos0",
        "outputId": "57fb66aa-d744-4d5d-d65d-b52cd5ace84d"
      },
      "outputs": [
        {
          "output_type": "stream",
          "name": "stdout",
          "text": [
            "Accuracy: 0.98\n",
            "Classification Report:\n",
            "              precision    recall  f1-score   support\n",
            "\n",
            "           0       0.98      1.00      0.99      1587\n",
            "           1       0.00      0.00      0.00        27\n",
            "\n",
            "    accuracy                           0.98      1614\n",
            "   macro avg       0.49      0.50      0.50      1614\n",
            "weighted avg       0.97      0.98      0.97      1614\n",
            "\n"
          ]
        }
      ],
      "source": [
        "# Import necessary metrics\n",
        "from sklearn.metrics import accuracy_score, classification_report\n",
        "\n",
        "# Accuracy and evaluation metrics\n",
        "accuracy = accuracy_score(y_test, y_pred)\n",
        "print(f\"Accuracy: {accuracy:.2f}\")\n",
        "\n",
        "print(\"Classification Report:\")\n",
        "print(classification_report(y_test, y_pred))\n"
      ]
    },
    {
      "cell_type": "code",
      "execution_count": 131,
      "metadata": {
        "colab": {
          "base_uri": "https://localhost:8080/",
          "height": 545
        },
        "id": "95qYOjVQAyVg",
        "outputId": "3905594a-ae6e-4bc3-b1ad-a1603077d130"
      },
      "outputs": [
        {
          "output_type": "display_data",
          "data": {
            "text/plain": [
              "<Figure size 800x600 with 2 Axes>"
            ],
            "image/png": "[encoded data removed]"
          },
          "metadata": {}
        }
      ],
      "source": [
        "# Import necessary metrics\n",
        "from sklearn.metrics import confusion_matrix\n",
        "\n",
        "# Confusion Matrix\n",
        "conf_matrix = confusion_matrix(y_test, y_pred)\n",
        "plt.figure(figsize=(8, 6))\n",
        "sns.heatmap(conf_matrix, annot=True, fmt='d', cmap='Blues',\n",
        "            xticklabels=['Not Cancelled', 'Cancelled'],\n",
        "            yticklabels=['Not Cancelled', 'Cancelled'])\n",
        "plt.title('Confusion Matrix')\n",
        "plt.show()\n"
      ]
    },
    {
      "cell_type": "code",
      "execution_count": 132,
      "metadata": {
        "colab": {
          "base_uri": "https://localhost:8080/"
        },
        "id": "CpnRfdFBBXfT",
        "outputId": "e0a1eb1a-a42b-476e-ceec-d55994b73512"
      },
      "outputs": [
        {
          "output_type": "stream",
          "name": "stdout",
          "text": [
            "Accuracy: 0.98\n"
          ]
        }
      ],
      "source": [
        "from sklearn.metrics import accuracy_score\n",
        "\n",
        "# Assuming y_pred contains the predictions from your model\n",
        "accuracy = accuracy_score(y_test, y_pred)\n",
        "print(f\"Accuracy: {accuracy:.2f}\")\n"
      ]
    }
  ],
  "metadata": {
    "accelerator": "GPU",
    "colab": {
      "gpuType": "T4",
      "provenance": [],
      "include_colab_link": true
    },
    "kernelspec": {
      "display_name": "Python 3",
      "name": "python3"
    },
    "language_info": {
      "name": "python"
    }
  },
  "nbformat": 4,
  "nbformat_minor": 0
}